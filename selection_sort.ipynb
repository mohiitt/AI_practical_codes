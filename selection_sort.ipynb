{
 "cells": [
  {
   "cell_type": "code",
   "execution_count": null,
   "id": "37545d91",
   "metadata": {},
   "outputs": [],
   "source": [
    "def selection_sort(arr):\n",
    "    n = len(arr)\n",
    "    is_sorted = True\n",
    "    for i in range(1, n):\n",
    "        if arr[i] < arr[i-1]:\n",
    "            is_sorted = False\n",
    "            break\n",
    "    if is_sorted:\n",
    "        print(\"Array is already sorted:\", arr)\n",
    "        return\n",
    "    \n",
    "    for i in range(n):\n",
    "        min_index = i\n",
    "        for j in range(i+1, n):\n",
    "            if arr[j] < arr[min_index]:\n",
    "                min_index = j\n",
    "        \n",
    "        arr[i], arr[min_index] = arr[min_index], arr[i]\n",
    "        print(\"Step\", i+1, \":\", arr)\n",
    "\n",
    "input_str = input(\"Enter the elements of the array separated by spaces: \")\n",
    "arr = list(map(int, input_str.split()))\n",
    "\n",
    "print(\"Original array:\", arr)\n",
    "selection_sort(arr)\n",
    "print(arr)\n",
    "'''\n",
    "output :\n",
    "Enter the elements of the array separated by spaces: 2 5 4 6 3 1\n",
    "Original array: [2, 5, 4, 6, 3, 1]\n",
    "Step 1 : [1, 5, 4, 6, 3, 2]\n",
    "Step 2 : [1, 2, 4, 6, 3, 5]\n",
    "Step 3 : [1, 2, 3, 6, 4, 5]\n",
    "Step 4 : [1, 2, 3, 4, 6, 5]\n",
    "Step 5 : [1, 2, 3, 4, 5, 6]\n",
    "Step 6 : [1, 2, 3, 4, 5, 6]\n",
    "[1, 2, 3, 4, 5, 6]'''"
   ]
  }
 ],
 "metadata": {
  "kernelspec": {
   "display_name": "Python 3 (ipykernel)",
   "language": "python",
   "name": "python3"
  },
  "language_info": {
   "codemirror_mode": {
    "name": "ipython",
    "version": 3
   },
   "file_extension": ".py",
   "mimetype": "text/x-python",
   "name": "python",
   "nbconvert_exporter": "python",
   "pygments_lexer": "ipython3",
   "version": "3.9.7"
  }
 },
 "nbformat": 4,
 "nbformat_minor": 5
}
