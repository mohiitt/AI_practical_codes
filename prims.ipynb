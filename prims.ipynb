{
 "cells": [
  {
   "cell_type": "code",
   "execution_count": null,
   "id": "38905e9d",
   "metadata": {},
   "outputs": [],
   "source": [
    "import heapq\n",
    "\n",
    "class Prims:\n",
    "    def __init__(self, _vertices, _graph):\n",
    "        self.graph = _graph\n",
    "        self.size = _vertices\n",
    "\n",
    "    def find_mst(self):\n",
    "        mst = []\n",
    "        min_heap = [[0, 0, 0]]  # [ weight ,source, destination]\n",
    "        visit = []\n",
    "        while len(min_heap) > 0:\n",
    "            w,s,d = heapq.heappop(min_heap)\n",
    "            if d in visit:\n",
    "                continue\n",
    "            mst.append([w,s,d])\n",
    "            visit.append(d)\n",
    "            for i in range(self.size):\n",
    "                if self.graph[d][i] > 0:\n",
    "                    heapq.heappush(min_heap, [self.graph[d][i],d, i])\n",
    "        mst.pop(0)\n",
    "        return mst\n",
    "    \n",
    "vertices = int(input(\"Enter the number of vertices: \"))\n",
    "graph = []\n",
    "print(\"Enter the adjacency matrix (enter weight of edge if exists, 0 otherwise):\")\n",
    "for i in range(vertices):\n",
    "    row = list(map(int, input().split()))\n",
    "    graph.append(row)\n",
    "\n",
    "algo = Prims(vertices, graph)\n",
    "\n",
    "print(\"Minimum Spanning Tree:\")\n",
    "print(algo.find_mst())\n",
    "\n",
    "''' output:\n",
    "Enter the number of vertices: 5\n",
    "Enter the adjacency matrix (enter weight of edge if exists, 0 otherwise):\n",
    "0 9 75 0 0\n",
    "9 0 95 19 42 \n",
    "75 95 0 51 66\n",
    "0 19 51 0 31\n",
    "0 42 66 31 0\n",
    "Minimum Spanning Tree:\n",
    "[[9, 0, 1], [19, 1, 3], [31, 3, 4], [51, 3, 2]]\n",
    "'''"
   ]
  }
 ],
 "metadata": {
  "kernelspec": {
   "display_name": "Python 3 (ipykernel)",
   "language": "python",
   "name": "python3"
  },
  "language_info": {
   "codemirror_mode": {
    "name": "ipython",
    "version": 3
   },
   "file_extension": ".py",
   "mimetype": "text/x-python",
   "name": "python",
   "nbconvert_exporter": "python",
   "pygments_lexer": "ipython3",
   "version": "3.9.7"
  }
 },
 "nbformat": 4,
 "nbformat_minor": 5
}
