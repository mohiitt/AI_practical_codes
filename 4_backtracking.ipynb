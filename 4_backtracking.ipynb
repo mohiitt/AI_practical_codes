{
 "cells": [
  {
   "cell_type": "code",
   "execution_count": null,
   "id": "2e1be778",
   "metadata": {},
   "outputs": [],
   "source": [
    "def is_safe(graph, colours, colour, current):\n",
    "    neighbours = graph[current]\n",
    "    for neighbour in neighbours:\n",
    "        if colour == colours[neighbour - 1]:\n",
    "            return False\n",
    "    return True\n",
    "\n",
    "def graph_traversal(graph, colours, vertices, current):\n",
    "    if current == vertices + 1:\n",
    "        return True\n",
    "    \n",
    "    for i in range(1, vertices + 1):  # Adjusted to include all vertices\n",
    "        if is_safe(graph, colours, i, current):\n",
    "            colours[current - 1] = i\n",
    "            if graph_traversal(graph, colours, vertices, current + 1):\n",
    "                return True\n",
    "            colours[current - 1] = 0\n",
    "    return False\n",
    "\n",
    "def graph_colouring(graph, vertices):\n",
    "    colours = [0 for _ in range(vertices)]\n",
    "    \n",
    "    if graph_traversal(graph, colours, vertices, 1):\n",
    "        return colours\n",
    "    return None\n",
    "\n",
    "def print_colours(colours, vertices):\n",
    "    for i in range(vertices):\n",
    "        print(i + 1, \":\", colours[i])  # Adjusted to start node numbering from 1\n",
    "\n",
    "# Input graph from user\n",
    "vertices = int(input(\"Enter the number of vertices: \"))\n",
    "graph = {}\n",
    "for i in range(1, vertices + 1):\n",
    "    neighbours = list(map(int, input(f\"Enter the neighbors of vertex {i} (separated by spaces): \").split()))\n",
    "    graph[i] = neighbours\n",
    "\n",
    "# Perform graph coloring\n",
    "col = graph_colouring(graph, vertices)\n",
    "if col is not None:\n",
    "    print(\"Graph can be colored with the following colors:\")\n",
    "    print_colours(col, vertices)\n",
    "else:\n",
    "    print(\"Graph cannot be colored.\")\n"
   ]
  }
 ],
 "metadata": {
  "kernelspec": {
   "display_name": "Python 3 (ipykernel)",
   "language": "python",
   "name": "python3"
  },
  "language_info": {
   "codemirror_mode": {
    "name": "ipython",
    "version": 3
   },
   "file_extension": ".py",
   "mimetype": "text/x-python",
   "name": "python",
   "nbconvert_exporter": "python",
   "pygments_lexer": "ipython3",
   "version": "3.9.7"
  }
 },
 "nbformat": 4,
 "nbformat_minor": 5
}
