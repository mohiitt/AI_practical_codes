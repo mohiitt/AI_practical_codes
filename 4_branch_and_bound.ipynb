{
 "cells": [
  {
   "cell_type": "code",
   "execution_count": 4,
   "id": "6b808dde",
   "metadata": {},
   "outputs": [
    {
     "name": "stdout",
     "output_type": "stream",
     "text": [
      "Enter the number of vertices: 4\n",
      "Enter the neighbors of vertex 1 (separated by spaces): 2 3\n",
      "Enter the neighbors of vertex 2 (separated by spaces): 1 3 4\n",
      "Enter the neighbors of vertex 3 (separated by spaces): 1 2 4\n",
      "Enter the neighbors of vertex 4 (separated by spaces): 2 3\n",
      "Graph can be colored with the following colors:\n",
      "1 : 1\n",
      "2 : 2\n",
      "3 : 3\n",
      "4 : 1\n",
      "\n",
      "\n"
     ]
    }
   ],
   "source": [
    "def is_safe(graph, colours, colour, current):\n",
    "    neighbours = graph[current]\n",
    "    for neighbour in neighbours:\n",
    "        if colour == colours[neighbour - 1]:\n",
    "            return False\n",
    "    return True\n",
    "\n",
    "def graph_traversal(graph, colours, vertices, current, current_colour, min_colours, result):\n",
    "    if current == vertices + 1:\n",
    "        min_colours = min(current_colour, min_colours)\n",
    "        result.append(colours.copy())\n",
    "        return min_colours\n",
    "    \n",
    "    for i in range(1,vertices):\n",
    "        if i > min_colours:\n",
    "            break\n",
    "        if is_safe(graph, colours, i, current):\n",
    "            colours[current - 1] = i\n",
    "            min_colours = graph_traversal(graph, colours, vertices, current+1, i, min_colours, result)\n",
    "            colours[current - 1] = 0\n",
    "    return min_colours\n",
    "\n",
    "def graph_colouring(graph, vertices):\n",
    "    colours = [0 for i in range(vertices)]\n",
    "    result = list()\n",
    "    \n",
    "    graph_traversal(graph, colours, vertices, 1,0,float('inf'), result)\n",
    "    return result\n",
    "\n",
    "def print_colours(results):\n",
    "    for colours in results:\n",
    "        for i in range(len(colours)):\n",
    "            print(i + 1, \":\", colours[i])\n",
    "        print(\"\\n\")\n",
    "\n",
    "vertices = int(input(\"Enter the number of vertices: \"))\n",
    "graph = {}\n",
    "for i in range(1, vertices + 1):\n",
    "    neighbours = list(map(int, input(f\"Enter the neighbors of vertex {i} (separated by spaces): \").split()))\n",
    "    graph[i] = neighbours\n",
    "\n",
    "# Perform graph coloring\n",
    "col = graph_colouring(graph, vertices)\n",
    "if col is not None:\n",
    "    print(\"Graph can be colored with the following colors:\")\n",
    "    print_colours(col)\n",
    "else:\n",
    "    print(\"Graph cannot be colored.\")\n"
   ]
  }
 ],
 "metadata": {
  "kernelspec": {
   "display_name": "Python 3 (ipykernel)",
   "language": "python",
   "name": "python3"
  },
  "language_info": {
   "codemirror_mode": {
    "name": "ipython",
    "version": 3
   },
   "file_extension": ".py",
   "mimetype": "text/x-python",
   "name": "python",
   "nbconvert_exporter": "python",
   "pygments_lexer": "ipython3",
   "version": "3.9.7"
  }
 },
 "nbformat": 4,
 "nbformat_minor": 5
}
