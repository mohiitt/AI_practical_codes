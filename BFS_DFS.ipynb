{
 "cells": [
  {
   "cell_type": "code",
   "execution_count": null,
   "id": "4cd01d7c",
   "metadata": {},
   "outputs": [],
   "source": [
    "def dfs(visited,graph,node):\n",
    "    if node not in visited:\n",
    "        print(node,end = \" \")\n",
    "        visited.add(node)\n",
    "        for neighbour in graph[node]:\n",
    "            dfs(visited, graph, neighbour)\n",
    "\n",
    "def bfs(visited,graph,node,queue):\n",
    "    visited.add(node)\n",
    "    queue.append(node)\n",
    "\n",
    "    while queue:\n",
    "        s = queue.pop(0)\n",
    "        print(s,end = \" \")\n",
    "        for neighbour in graph[s]:\n",
    "            if neighbour not in visited:\n",
    "                visited.add(neighbour)\n",
    "                queue.append(neighbour)\n",
    "\n",
    "def main():\n",
    "    visited1 = set() # TO keep track of DFS visited nodes\n",
    "    visited2 = set() # TO keep track of BFS visited nodes\n",
    "    queue = []       # For BFS\n",
    "    n = int(input(\"Enter number of nodes : \"))\n",
    "    graph = dict()\n",
    "\n",
    "    for i in range(1,n+1):\n",
    "        edges = int(input(\"Enter number of edges for node {} : \".format(i)))\n",
    "        graph[i] = list()\n",
    "        for j in range(1,edges+1):\n",
    "            node = int(input(\"Enter edge {} destination for node {} : \".format(j,i)))\n",
    "            graph[i].append(node)\n",
    "\n",
    "    print(\"The following is DFS\")\n",
    "    dfs(visited1, graph, 1)\n",
    "    print()\n",
    "    print(\"The following is BFS\")\n",
    "    bfs(visited2, graph, 1, queue)\n",
    "\n",
    "if __name__==\"__main__\":\n",
    "    main()\n",
    "'''\n",
    "SAMPLE output :\n",
    "Enter number of nodes : 5\n",
    "Enter number of edges for node 1 : 2\n",
    "Enter edge 1 destination for node 1 : 2\n",
    "Enter edge 2 destination for node 1 : 3\n",
    "'''"
   ]
  },
  {
   "cell_type": "code",
   "execution_count": null,
   "id": "f4222aa9",
   "metadata": {},
   "outputs": [],
   "source": []
  }
 ],
 "metadata": {
  "kernelspec": {
   "display_name": "Python 3 (ipykernel)",
   "language": "python",
   "name": "python3"
  },
  "language_info": {
   "codemirror_mode": {
    "name": "ipython",
    "version": 3
   },
   "file_extension": ".py",
   "mimetype": "text/x-python",
   "name": "python",
   "nbconvert_exporter": "python",
   "pygments_lexer": "ipython3",
   "version": "3.9.7"
  }
 },
 "nbformat": 4,
 "nbformat_minor": 5
}
